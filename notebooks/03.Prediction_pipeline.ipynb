{
 "cells": [
  {
   "cell_type": "code",
   "execution_count": 23,
   "id": "16a71d07-a616-4168-aa00-575ca1c99310",
   "metadata": {},
   "outputs": [],
   "source": [
    "import numpy as np\n",
    "import pandas as pd\n",
    "import re\n",
    "import string\n",
    "import pickle"
   ]
  },
  {
   "cell_type": "code",
   "execution_count": 24,
   "id": "35b4d1cd-4007-4f45-b736-5e2712dcba12",
   "metadata": {},
   "outputs": [],
   "source": [
    "def remove_punctuations(text):\n",
    "    for punctuation in string.punctuation:\n",
    "        text = text.replace(punctuation, '')\n",
    "    return text"
   ]
  },
  {
   "cell_type": "code",
   "execution_count": 25,
   "id": "c04f04b0-e4ba-4431-a36e-a0a0b09d0562",
   "metadata": {},
   "outputs": [],
   "source": [
    "with open('../static/model/corpora/stopwords/english', 'r') as file:\n",
    "    sw = file.read().splitlines()"
   ]
  },
  {
   "cell_type": "markdown",
   "id": "f70c0988-d449-4b24-bc23-fbc397584ccc",
   "metadata": {},
   "source": [
    "### Loading the trained model"
   ]
  },
  {
   "cell_type": "code",
   "execution_count": 26,
   "id": "54441f2c-ceb6-4e3c-b8df-fcb8a21a4599",
   "metadata": {},
   "outputs": [],
   "source": [
    "with open('../static/model/model.pickle', 'rb') as f :\n",
    "    model = pickle.load(f)"
   ]
  },
  {
   "cell_type": "code",
   "execution_count": 27,
   "id": "85ae141c-09ed-468e-b097-f359d8639a82",
   "metadata": {},
   "outputs": [],
   "source": [
    "from nltk.stem import PorterStemmer\n",
    "ps = PorterStemmer()"
   ]
  },
  {
   "cell_type": "code",
   "execution_count": 28,
   "id": "f4518b6a-1421-4f20-852a-eefd4c302dbd",
   "metadata": {},
   "outputs": [],
   "source": [
    "def preprocessing(text) :\n",
    "    data = pd.DataFrame([text], columns=['tweet'])\n",
    "    data[\"tweet\"] = data[\"tweet\"].apply(lambda x: \" \".join(x.lower() for x in x.split()))\n",
    "    data[\"tweet\"] = data[\"tweet\"].apply(lambda x: \" \".join(re.sub(r'^https?:\\/\\/.*[\\r\\n]*', '',x,flags=re.MULTILINE) for x in x.split()))\n",
    "    data[\"tweet\"] = data[\"tweet\"].apply(remove_punctuations)\n",
    "    data[\"tweet\"] = data[\"tweet\"].str.replace(r'\\d+', '',regex=True)\n",
    "    data[\"tweet\"] = data[\"tweet\"].apply(lambda x: \" \".join(x for x in x.split() if x not in sw))\n",
    "    data[\"tweet\"] = data[\"tweet\"].apply(lambda x: \" \".join(ps.stem(x) for x in x.split()))\n",
    "    return data['tweet']"
   ]
  },
  {
   "cell_type": "markdown",
   "id": "5cf5da87-e778-4990-883c-9d9a22a8dbc1",
   "metadata": {},
   "source": [
    "### Extract Vocabulary"
   ]
  },
  {
   "cell_type": "code",
   "execution_count": 29,
   "id": "74e8cb32-6fc3-4f72-8f25-84cc72e487d6",
   "metadata": {},
   "outputs": [],
   "source": [
    "vocab = pd.read_csv('../static/model/vocabulary.txt', header=None)\n",
    "tokens = vocab[0].tolist()"
   ]
  },
  {
   "cell_type": "markdown",
   "id": "6d9799b3-512a-48c5-87ee-8f196fb330a0",
   "metadata": {},
   "source": [
    "### Vectorization"
   ]
  },
  {
   "cell_type": "code",
   "execution_count": 30,
   "id": "342e2867-7c00-4c7e-b51d-fd540db4d16e",
   "metadata": {},
   "outputs": [],
   "source": [
    "def vectorizer(ds, vocabulary) :\n",
    "    vectorized_lst = []\n",
    "\n",
    "    for sentence in ds:\n",
    "        sentence_lst = np.zeros(len(vocabulary))\n",
    "\n",
    "        for i in range(len(vocabulary)) :\n",
    "            if vocabulary[i] in sentence.split() :\n",
    "                sentence_lst[i] = 1\n",
    "\n",
    "        vectorized_lst.append(sentence_lst)\n",
    "\n",
    "    vectorized_lst_new = np.asarray(vectorized_lst, dtype=np.float32)\n",
    "\n",
    "    return vectorized_lst_new"
   ]
  },
  {
   "cell_type": "code",
   "execution_count": 39,
   "id": "e8bd3c83-5188-4d7d-a3c7-3cde74a2daa7",
   "metadata": {},
   "outputs": [],
   "source": [
    "def get_prediction(vectorized_text) :\n",
    "    prediction = model.predict(vectorized_text)\n",
    "    if prediction == 1 :\n",
    "        return 'Negative'\n",
    "    else :\n",
    "        return 'Positive'"
   ]
  },
  {
   "cell_type": "code",
   "execution_count": 40,
   "id": "a481e9d8-355a-4754-8259-ce5ed9b7d992",
   "metadata": {},
   "outputs": [
    {
     "data": {
      "text/plain": [
       "'Positive'"
      ]
     },
     "execution_count": 40,
     "metadata": {},
     "output_type": "execute_result"
    }
   ],
   "source": [
    "txt = 'wow. nice i love it'\n",
    "preprocessed_txt = preprocessing(txt)\n",
    "vectorized_txt = vectorizer(preprocessed_txt, tokens)\n",
    "prediction = get_prediction(vectorized_txt)\n",
    "prediction"
   ]
  },
  {
   "cell_type": "code",
   "execution_count": null,
   "id": "5c1ddd55-b6d5-4384-a402-b791a785eb87",
   "metadata": {},
   "outputs": [],
   "source": []
  }
 ],
 "metadata": {
  "kernelspec": {
   "display_name": "Python 3 (ipykernel)",
   "language": "python",
   "name": "python3"
  },
  "language_info": {
   "codemirror_mode": {
    "name": "ipython",
    "version": 3
   },
   "file_extension": ".py",
   "mimetype": "text/x-python",
   "name": "python",
   "nbconvert_exporter": "python",
   "pygments_lexer": "ipython3",
   "version": "3.12.1"
  }
 },
 "nbformat": 4,
 "nbformat_minor": 5
}
